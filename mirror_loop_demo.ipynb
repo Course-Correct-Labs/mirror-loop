{
 "cells": [
  {
   "cell_type": "markdown",
   "metadata": {},
   "source": [
    "# Mirror Loop Analysis Demo\n",
    "\n",
    "This notebook reproduces the canonical Mirror Loop curves from a cached dataset only. **No provider calls are made.**\n",
    "\n",
    "- Input: `data/mirror_loop_results_all.csv`\n",
    "- Outputs: `figures/fig_mirrorloop_curve.png`, `figures/fig_novelty_curve.png`\n",
    "- Manuscript and prompts excluded during review"
   ]
  },
  {
   "cell_type": "code",
   "execution_count": null,
   "metadata": {},
   "outputs": [],
   "source": [
    "import pandas as pd\n",
    "import matplotlib.pyplot as plt\n",
    "from pathlib import Path"
   ]
  },
  {
   "cell_type": "code",
   "execution_count": null,
   "metadata": {},
   "outputs": [],
   "source": "DATA = Path(\"data\") / \"mirror_loop_results_all.csv\"\nFIGS = Path(\"figures\")\nFIGS.mkdir(exist_ok=True, parents=True)\n\nif not DATA.exists():\n    print(\"⚠️  CSV not found. Using synthetic demo data.\")\n    import numpy as np\n    demo_iters = np.arange(8)\n    df = pd.DataFrame({\n        \"iteration\": demo_iters,\n        \"edit_change\": np.exp(-demo_iters / 3) + np.random.normal(0, 0.05, len(demo_iters)),\n        \"ngram_novelty\": np.exp(-demo_iters / 2.5) + np.random.normal(0, 0.05, len(demo_iters))\n    })\nelse:\n    df = pd.read_csv(DATA)\n    print(f\"✓ Loaded {len(df)} rows from {DATA.name}\")"
  },
  {
   "cell_type": "code",
   "execution_count": null,
   "metadata": {},
   "outputs": [],
   "source": "print(f\"Dataset shape: {df.shape}\")\ndf.head()"
  },
  {
   "cell_type": "code",
   "execution_count": null,
   "metadata": {},
   "outputs": [],
   "source": "# Aggregate across providers for the canonical pooled curve\npooled = df.groupby('iteration', as_index=False).agg(\n    delta_I=('edit_change', 'mean'),\n    ngram_novelty=('ngram_novelty', 'mean')\n)\nprint(f\"Pooled to {len(pooled)} iterations\")\npooled"
  },
  {
   "cell_type": "markdown",
   "metadata": {},
   "source": [
    "## ΔI Curve: Informational Decay and Grounding Rebound"
   ]
  },
  {
   "cell_type": "code",
   "execution_count": null,
   "metadata": {},
   "outputs": [],
   "source": [
    "ax = pooled.plot(x='iteration', y='delta_I', marker='o', legend=False, figsize=(8,5))\n",
    "ax.axvline(3, linestyle='--', color='gray', alpha=0.7, label='Minimal grounding (iter 3)')\n",
    "ax.set_title(\"Mirror Loop: Informational Decay and Grounding Rebound (ΔI)\")\n",
    "ax.set_xlabel(\"Iteration\")\n",
    "ax.set_ylabel(\"ΔI (normalized edit distance)\")\n",
    "ax.legend()\n",
    "fig_path = FIGS / \"fig_mirrorloop_curve.png\"\n",
    "ax.figure.savefig(fig_path, bbox_inches='tight', dpi=150)\n",
    "plt.show()\n",
    "print(f\"Saved: {fig_path}\")"
   ]
  },
  {
   "cell_type": "markdown",
   "metadata": {},
   "source": [
    "## Surface Novelty Decline"
   ]
  },
  {
   "cell_type": "code",
   "execution_count": null,
   "metadata": {},
   "outputs": [],
   "source": [
    "ax2 = pooled.plot(x='iteration', y='ngram_novelty', marker='o', legend=False, color='coral', figsize=(8,5))\n",
    "ax2.set_title(\"Surface Novelty Decline Across Iterations\")\n",
    "ax2.set_xlabel(\"Iteration\")\n",
    "ax2.set_ylabel(\"3-gram Novelty Ratio\")\n",
    "fig2_path = FIGS / \"fig_novelty_curve.png\"\n",
    "ax2.figure.savefig(fig2_path, bbox_inches='tight', dpi=150)\n",
    "plt.show()\n",
    "print(f\"Saved: {fig2_path}\")"
   ]
  },
  {
   "cell_type": "markdown",
   "metadata": {},
   "source": [
    "## Summary Statistics"
   ]
  },
  {
   "cell_type": "code",
   "execution_count": null,
   "metadata": {},
   "outputs": [],
   "source": [
    "early = pooled.loc[pooled['iteration'].isin([1,2]), 'delta_I'].mean()\n",
    "late  = pooled.loc[pooled['iteration'].isin([6,7]), 'delta_I'].mean()\n",
    "reduction = ((late - early)/early)*-100\n",
    "\n",
    "print(f\"Mean ΔI early (1–2): {early:.3f}\")\n",
    "print(f\"Mean ΔI late  (6–7): {late:.3f}\")\n",
    "print(f\"Reduction: {reduction:.1f}%\")\n",
    "print(f\"\\nInterpretation: Mirror Loop demonstrates {reduction:.1f}% reduction in informational change,\")\n",
    "print(\"indicating recursive convergence toward a stable attractoR with minimal external grounding.\")"
   ]
  }
 ],
 "metadata": {
  "kernelspec": {
   "display_name": "Python 3",
   "language": "python",
   "name": "python3"
  },
  "language_info": {
   "name": "python",
   "version": "3.11.0"
  }
 },
 "nbformat": 4,
 "nbformat_minor": 4
}